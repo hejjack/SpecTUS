{
 "cells": [
  {
   "cell_type": "markdown",
   "metadata": {},
   "source": [
    "# Create overlap-only predictions\n",
    "We have two sets of predictions for MONA_GCMS dataset - with overlaps with NIST/NEIMS_gen and without. This notebook creates predictions for the overlap-only (with NIST train) cases by filtering the predictions with overlaps.\n",
    "\n",
    "The whole process is a bit more complicated bcs of datapipe filtering and missing GT info in predictions, so it might not make sense to you... \n",
    "\n",
    "However, it will save A LOT of compute. If you want, just burn this."
   ]
  },
  {
   "cell_type": "code",
   "execution_count": 2,
   "metadata": {},
   "outputs": [],
   "source": [
    "from matchms.importing import load_from_msp\n",
    "from tqdm import tqdm\n",
    "import pandas as pd\n",
    "import asyncio\n",
    "import nest_asyncio\n",
    "from rdkit import Chem\n",
    "from pathlib import Path\n",
    "\n",
    "import sys\n",
    "sys.path.append('../')\n",
    "from utils.data_utils import filter_datapoints, build_single_datapipe"
   ]
  },
  {
   "cell_type": "code",
   "execution_count": 3,
   "metadata": {},
   "outputs": [],
   "source": [
    "DATA_ROOT_FOLDER = \"../clean_paper/data/\""
   ]
  },
  {
   "cell_type": "code",
   "execution_count": 17,
   "metadata": {},
   "outputs": [],
   "source": [
    "import json\n",
    "\n",
    "with_overlap_path = DATA_ROOT_FOLDER + \"extra_libraries/MONA_GCMS/MONA_GCMS_overlaps_included.jsonl\"\n",
    "nist_train_path = DATA_ROOT_FOLDER + \"nist/train.jsonl\"\n",
    "\n",
    "filtering_args = {\n",
    "        \"max_num_peaks\": 300,\n",
    "        \"max_mz\": 500,\n",
    "        \"max_mol_repr_len\": 100,\n",
    "        \"mol_repr\": \"smiles\",\n",
    "        \"log_base\": 1.28,\n",
    "        \"log_shift\": 29,\n",
    "        \"inference_mode\": True,\n",
    "        \"keep_all_columns\": True,\n",
    "    }\n",
    "def filter_dataset(dataset_path, filtering_args=filtering_args):\n",
    "    filtered_dataset = []\n",
    "    with open(dataset_path, \"r\") as old_f:\n",
    "        for line in tqdm(old_f):\n",
    "            datapoint = json.loads(line)\n",
    "            if filter_datapoints(datapoint, filtering_args):\n",
    "                filtered_dataset.append(datapoint)\n",
    "    return filtered_dataset"
   ]
  },
  {
   "cell_type": "code",
   "execution_count": 19,
   "metadata": {},
   "outputs": [
    {
     "name": "stderr",
     "output_type": "stream",
     "text": [
      "18464it [00:03, 5119.91it/s]\n"
     ]
    }
   ],
   "source": [
    "nist_smiles_set = set(pd.read_json(nist_train_path, lines=True)[\"smiles\"])\n",
    "with_overlaps_filtered_dicts = filter_dataset(with_overlap_path)"
   ]
  },
  {
   "cell_type": "code",
   "execution_count": 20,
   "metadata": {},
   "outputs": [],
   "source": [
    "def create_overlap_only_mask(nist_smiles_set, with_overlaps_filtered_dicts):\n",
    "    \"\"\"Creates a mask that can be applied on predictions.jsonl of MONA_GCMS_overlaps_included.jsonl\n",
    "    to get only the datapoints that are in MONA_GCMS_overlaps_included.jsonl and also in NIST train.jsonl.\n",
    "    Thus, the mask will only keep the datapoints that are in the overlap of MONA and NIST train.\n",
    "    \"\"\"\n",
    "    with_overlaps_filtered_smiles_list = [datapoint[\"smiles\"] for datapoint in with_overlaps_filtered_dicts]\n",
    "\n",
    "    overlap_only_mask = pd.Series(with_overlaps_filtered_smiles_list).isin(nist_smiles_set)\n",
    "\n",
    "    return overlap_only_mask\n",
    "\n",
    "overlap_only_mask = create_overlap_only_mask(nist_smiles_set, with_overlaps_filtered_dicts)"
   ]
  },
  {
   "cell_type": "code",
   "execution_count": 21,
   "metadata": {},
   "outputs": [
    {
     "data": {
      "text/plain": [
       "12758"
      ]
     },
     "execution_count": 21,
     "metadata": {},
     "output_type": "execute_result"
    }
   ],
   "source": [
    "sum(overlap_only_mask)"
   ]
  },
  {
   "cell_type": "code",
   "execution_count": 22,
   "metadata": {},
   "outputs": [],
   "source": [
    "from pathlib import Path\n",
    "import yaml\n",
    "\n",
    "def apply_mask_to_predicitons(overlap_only_mask, predictions_path, output_path):\n",
    "    \"\"\"Applies the mask on predictions.jsonl of MONA_GCMS_overlaps_included.jsonl\n",
    "    to get only the datapoints that are in MONA_GCMS_overlaps_included.jsonl and also in NIST train.jsonl.\n",
    "\n",
    "    Writes the filtered predictions to output_path.\n",
    "    \"\"\"\n",
    "    Path(output_path).parent.mkdir(parents=True, exist_ok=True)\n",
    "    predictions_df = pd.read_csv(predictions_path, sep=\"\\t\", header=None, names=[\"prediction\"])\n",
    "    overlap_only_predictions = predictions_df[overlap_only_mask]\n",
    "\n",
    "    with open(output_path, \"w\") as f:\n",
    "        for prediction in overlap_only_predictions[\"prediction\"]:\n",
    "            f.write(prediction + \"\\n\")\n",
    "\n",
    "def copy_logfile(logfile_folder, output_folder):\n",
    "    \"\"\"Copies the logfile from the predictions folder to the output folder.\n",
    "    It nly changes dataset name and query data entries so it holds for the new predictions.\n",
    "    \"\"\"\n",
    "    logfile_path = Path(logfile_folder) / \"log_file.yaml\"\n",
    "    output_logfile_path = Path(output_folder) / \"log_file.yaml\"\n",
    "\n",
    "    with open(logfile_path, \"r\", encoding=\"utf-8\") as f:\n",
    "        old_logs = yaml.safe_load(f)\n",
    "\n",
    "    old_logs[\"dataset\"][\"dataset_name\"] = \"MONA_GCMS_overlaps_only\"\n",
    "    old_logs[\"dataset\"][\"query_data\"] = \"data/extra_libraries/MONA_GCMS/MONA_GCMS_overlaps_only.jsonl\"\n",
    "\n",
    "    i = 0\n",
    "    while old_logs.get(f\"evaluation_{i}\"):\n",
    "        old_logs.pop(f\"evaluation_{i}\")\n",
    "        i += 1\n",
    "\n",
    "    with open(output_logfile_path, \"w\", encoding=\"utf-8\") as f:\n",
    "        yaml.dump(old_logs, f)\n",
    "\n",
    "\n",
    "def create_new_predictions(overlap_only_mask, predictions_folder, output_folder):\n",
    "    apply_mask_to_predicitons(overlap_only_mask,\n",
    "                              Path(predictions_folder) / \"predictions.jsonl\",\n",
    "                              Path(output_folder) / \"predictions.jsonl\")\n",
    "    copy_logfile(predictions_folder, output_folder)"
   ]
  },
  {
   "cell_type": "code",
   "execution_count": 27,
   "metadata": {},
   "outputs": [],
   "source": [
    "# ./clean_paper/predictions/balmy-violet-577_exp8_224_148/MONA_GCMS_overlaps_included/1730907164_all_full_beam10/predictions.jsonl\n",
    "# ./clean_paper/predictions/balmy-violet-577_exp8_224_148/MONA_GCMS_overlaps_included/1730907162_all_full_beam50/predictions.jsonl\n",
    "# ./clean_paper/predictions/balmy-violet-577_exp8_224_148/MONA_GCMS_overlaps_included/1730907164_all_full_greedy/predictions.jsonl\n",
    "# ./clean_paper/predictions/db_search_morgan_tanimoto/MONA_GCMS_overlaps_included/1730984285_a~ll_full_1cand/predictions.jsonl\n",
    "# ./clean_paper/predictions/db_search_morgan_tanimoto/MONA_GCMS_overlaps_included/1730916155_all_full_50cand/predictions.jsonl\n",
    "# ./clean_paper/predictions/db_search_morgan_tanimoto/MONA_GCMS_overlaps_included/1730983692_all_full_10cand/predictions.jsonl\n",
    "# ./clean_paper/predictions/db_search_sss/MONA_GCMS_overlaps_included/1730984285_all_full_1cand/predictions.jsonl\n",
    "# ./clean_paper/predictions/db_search_sss/MONA_GCMS_overlaps_included/1730916155_all_full_50cand/predictions.jsonl\n",
    "# ./clean_paper/predictions/db_search_sss/MONA_GCMS_overlaps_included/1730981471_all_full_10cand/predictions.jsonl\n",
    "# ./clean_paper/predictions/db_search_hss/MONA_GCMS_overlaps_included/1730984285_all_full_1cand/predictions.jsonl\n",
    "# ./clean_paper/predictions/db_search_hss/MONA_GCMS_overlaps_included/1730916155_all_full_50cand/predictions.jsonl\n",
    "# ./clean_paper/predictions/db_search_hss/MONA_GCMS_overlaps_included/1730981471_all_full_10cand/predictions.jsonl\n",
    "\n",
    "predictions_folders = [\"../clean_paper/predictions/balmy-violet-577_exp8_224_148/MONA_GCMS_overlaps_included/1730907164_all_full_beam10/\",\n",
    "                       \"../clean_paper/predictions/balmy-violet-577_exp8_224_148/MONA_GCMS_overlaps_included/1730907162_all_full_beam50/\",\n",
    "                       \"../clean_paper/predictions/balmy-violet-577_exp8_224_148/MONA_GCMS_overlaps_included/1730907164_all_full_greedy/\",\n",
    "                       \"../clean_paper/predictions/db_search_morgan_tanimoto/MONA_GCMS_overlaps_included/1730984285_all_full_1cand/\",\n",
    "                       \"../clean_paper/predictions/db_search_morgan_tanimoto/MONA_GCMS_overlaps_included/1730916155_all_full_50cand/\",\n",
    "                       \"../clean_paper/predictions/db_search_morgan_tanimoto/MONA_GCMS_overlaps_included/1730983692_all_full_10cand/\",\n",
    "                       \"../clean_paper/predictions/db_search_sss/MONA_GCMS_overlaps_included/1730984285_all_full_1cand/\",\n",
    "                       \"../clean_paper/predictions/db_search_sss/MONA_GCMS_overlaps_included/1730916155_all_full_50cand/\",\n",
    "                       \"../clean_paper/predictions/db_search_sss/MONA_GCMS_overlaps_included/1730981471_all_full_10cand/\",\n",
    "                       \"../clean_paper/predictions/db_search_hss/MONA_GCMS_overlaps_included/1730984285_all_full_1cand/\",\n",
    "                       \"../clean_paper/predictions/db_search_hss/MONA_GCMS_overlaps_included/1730916155_all_full_50cand/\",\n",
    "                       \"../clean_paper/predictions/db_search_hss/MONA_GCMS_overlaps_included/1730981471_all_full_10cand/\"]\n",
    "\n",
    "output_folders = [\"../clean_paper/predictions/balmy-violet-577_exp8_224_148/MONA_GCMS_overlaps_only/1730907164_all_full_beam10/\",\n",
    "                  \"../clean_paper/predictions/balmy-violet-577_exp8_224_148/MONA_GCMS_overlaps_only/1730907162_all_full_beam50/\",\n",
    "                  \"../clean_paper/predictions/balmy-violet-577_exp8_224_148/MONA_GCMS_overlaps_only/1730907164_all_full_greedy/\",\n",
    "                  \"../clean_paper/predictions/db_search_morgan_tanimoto/MONA_GCMS_overlaps_only/1730984285_all_full_1cand/\",\n",
    "                  \"../clean_paper/predictions/db_search_morgan_tanimoto/MONA_GCMS_overlaps_only/1730916155_all_full_50cand/\",\n",
    "                  \"../clean_paper/predictions/db_search_morgan_tanimoto/MONA_GCMS_overlaps_only/1730983692_all_full_10cand/\",\n",
    "                  \"../clean_paper/predictions/db_search_sss/MONA_GCMS_overlaps_only/1730984285_all_full_1cand/\",\n",
    "                  \"../clean_paper/predictions/db_search_sss/MONA_GCMS_overlaps_only/1730916155_all_full_50cand/\",\n",
    "                  \"../clean_paper/predictions/db_search_sss/MONA_GCMS_overlaps_only/1730981471_all_full_10cand/\",\n",
    "                  \"../clean_paper/predictions/db_search_hss/MONA_GCMS_overlaps_only/1730984285_all_full_1cand/\",\n",
    "                  \"../clean_paper/predictions/db_search_hss/MONA_GCMS_overlaps_only/1730916155_all_full_50cand/\",\n",
    "                  \"../clean_paper/predictions/db_search_hss/MONA_GCMS_overlaps_only/1730981471_all_full_10cand/\"]\n",
    "\n",
    "for predictions_folder, output_folder in zip(predictions_folders, output_folders):\n",
    "    create_new_predictions(overlap_only_mask, predictions_folder, output_folder)"
   ]
  },
  {
   "cell_type": "markdown",
   "metadata": {},
   "source": [
    "## Create filtered dataset\n",
    "In a similar manner create a dataset with only overlap cases. This will be used to evaluate the overlap-only predictions.\n",
    "\n",
    "Leave there only th filtered labels, so we KNOW FOR SURE the number of labels is the same as the number of predictions.   "
   ]
  },
  {
   "cell_type": "code",
   "execution_count": 9,
   "metadata": {},
   "outputs": [],
   "source": [
    "nist_nonfiltered_dicts = filter_dataset(nist_train_path, filtering_args=None)\n",
    "with_overlaps_nonfiltered_dicts = filter_dataset(with_overlap_path, filtering_args=None)"
   ]
  },
  {
   "cell_type": "code",
   "execution_count": 10,
   "metadata": {},
   "outputs": [],
   "source": [
    "old_data_path = DATA_ROOT_FOLDER + \"extra_libraries/MONA_GCMS/MONA_GCMS_overlaps_included.jsonl\"\n",
    "new_data_path = DATA_ROOT_FOLDER + \"extra_libraries/MONA_GCMS/MONA_GCMS_overlaps_only.jsonl\""
   ]
  },
  {
   "cell_type": "code",
   "execution_count": 15,
   "metadata": {},
   "outputs": [],
   "source": [
    "nist_train_df = pd.read_json(nist_train_path, lines=True)\n",
    "nist_train_smiles_set = set(nist_train_df[\"smiles\"])"
   ]
  },
  {
   "cell_type": "code",
   "execution_count": 24,
   "metadata": {},
   "outputs": [
    {
     "name": "stderr",
     "output_type": "stream",
     "text": [
      "18464it [00:03, 5008.02it/s]\n"
     ]
    }
   ],
   "source": [
    "import json\n",
    "## filter the data\n",
    "counter = 0\n",
    "with open(old_data_path, \"r\") as old_f, open(new_data_path, \"w\") as filtred_f:\n",
    "    for line in tqdm(old_f):\n",
    "        datapoint = json.loads(line)\n",
    "        if filter_datapoints(datapoint, filtering_args) and datapoint[\"smiles\"] in nist_train_smiles_set:\n",
    "            filtred_f.write(line)\n",
    "            counter += 1"
   ]
  },
  {
   "cell_type": "code",
   "execution_count": 26,
   "metadata": {},
   "outputs": [
    {
     "data": {
      "text/plain": [
       "(232025, 17812)"
      ]
     },
     "execution_count": 26,
     "metadata": {},
     "output_type": "execute_result"
    }
   ],
   "source": [
    "len(nist_nonfiltered_dicts), len(with_overlaps_filtered_dicts)"
   ]
  }
 ],
 "metadata": {
  "kernelspec": {
   "display_name": "BARTtrainH100",
   "language": "python",
   "name": "python3"
  },
  "language_info": {
   "codemirror_mode": {
    "name": "ipython",
    "version": 3
   },
   "file_extension": ".py",
   "mimetype": "text/x-python",
   "name": "python",
   "nbconvert_exporter": "python",
   "pygments_lexer": "ipython3",
   "version": "3.8.16"
  }
 },
 "nbformat": 4,
 "nbformat_minor": 2
}
